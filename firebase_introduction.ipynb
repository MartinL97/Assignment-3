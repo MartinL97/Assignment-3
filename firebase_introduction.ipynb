{
 "cells": [
  {
   "attachments": {},
   "cell_type": "markdown",
   "metadata": {},
   "source": [
    "# <u>A Beginner's Guide to Firebase Realtime Database<u>"
   ]
  },
  {
   "attachments": {},
   "cell_type": "markdown",
   "metadata": {},
   "source": [
    "## Introduction\n",
    "\n",
    "Firebase Realtime Database is a cloud hosted NoSQL database developped by Google in which Data is stored in JSON format and synchronized in real time with each connected client. When building cross-platform apps with Apple/Android platforms, and JavaScript software development kits (SDKs), all of the clients share a real-time database instance and automatically receive updates with the latest data.\n"
   ]
  },
  {
   "attachments": {},
   "cell_type": "markdown",
   "metadata": {},
   "source": [
    "## Setting up a Firebase project\n",
    "\n",
    "Je trouverais ça pas mal d'inclure le tutorial au fur et à mesure plutôt que de faire une section à part. Peut être inclure ici le set up d'un environnement firebase, genre\n",
    "\n",
    "!pip install firebase-admin\n",
    "\n",
    "import firebase_admin\n"
   ]
  },
  {
   "cell_type": "code",
   "execution_count": 6,
   "metadata": {},
   "outputs": [
    {
     "name": "stdout",
     "output_type": "stream",
     "text": [
      "Set up firebase project\n"
     ]
    }
   ],
   "source": [
    "print(\"Set up firebase project \")"
   ]
  },
  {
   "attachments": {},
   "cell_type": "markdown",
   "metadata": {},
   "source": [
    "## Features\n",
    "\n",
    "blablabla bla blabla \n",
    "\n",
    "inclure du code pour démontrer les examples"
   ]
  },
  {
   "attachments": {},
   "cell_type": "markdown",
   "metadata": {},
   "source": [
    "+ **Feature 1**: this feature allows to blablabla..."
   ]
  },
  {
   "cell_type": "code",
   "execution_count": 4,
   "metadata": {},
   "outputs": [
    {
     "name": "stdout",
     "output_type": "stream",
     "text": [
      "Montrer un example de la feature en code\n"
     ]
    }
   ],
   "source": [
    "print(\"Montrer un example de la feature en code\")"
   ]
  },
  {
   "attachments": {},
   "cell_type": "markdown",
   "metadata": {},
   "source": [
    "+ **Feature 2**: this feature allows to blablabla..."
   ]
  },
  {
   "cell_type": "code",
   "execution_count": 5,
   "metadata": {},
   "outputs": [
    {
     "name": "stdout",
     "output_type": "stream",
     "text": [
      "Montrer un example de la feature en code\n"
     ]
    }
   ],
   "source": [
    "print(\"Montrer un example de la feature en code\")"
   ]
  },
  {
   "attachments": {},
   "cell_type": "markdown",
   "metadata": {},
   "source": [
    "## Benefits and Drawbacks of Firebase\n",
    "\n",
    "### Benefits:\n",
    "\n",
    "+ Ability to sync data in real-time across multiple devices and clients without the need for manual synchronization or polling"
   ]
  },
  {
   "attachments": {},
   "cell_type": "markdown",
   "metadata": {},
   "source": [
    "## Use of Firebase in industry and applications\n",
    "\n",
    "blablabla bla blabla"
   ]
  },
  {
   "attachments": {},
   "cell_type": "markdown",
   "metadata": {},
   "source": [
    "## Conclusion\n",
    "\n",
    "blablabla bla blabla"
   ]
  }
 ],
 "metadata": {
  "kernelspec": {
   "display_name": "Python 3",
   "language": "python",
   "name": "python3"
  },
  "language_info": {
   "codemirror_mode": {
    "name": "ipython",
    "version": 3
   },
   "file_extension": ".py",
   "mimetype": "text/x-python",
   "name": "python",
   "nbconvert_exporter": "python",
   "pygments_lexer": "ipython3",
   "version": "3.10.11"
  },
  "orig_nbformat": 4
 },
 "nbformat": 4,
 "nbformat_minor": 2
}
