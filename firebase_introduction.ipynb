{
 "cells": [
  {
   "attachments": {},
   "cell_type": "markdown",
   "metadata": {},
   "source": [
    "# <u>A Beginner's Guide to Firebase Realtime Database<u>"
   ]
  },
  {
   "attachments": {},
   "cell_type": "markdown",
   "metadata": {},
   "source": [
    "## Introduction\n",
    "\n",
    "Firebase Realtime Database is a cloud hosted NoSQL database developped by Google in which the Data is stored in JSON format and synchronized in real time with each connected client. When building cross-platform apps using IOS, Android, and JavaScript software development kits (SDKs), all of the clients share a real-time database instance and automatically receive immediate data updates.\n"
   ]
  },
  {
   "attachments": {},
   "cell_type": "markdown",
   "metadata": {},
   "source": [
    "## Setting up a Firebase project\n",
    "\n",
    "Je trouverais ça pas mal d'inclure le tutorial au fur et à mesure plutôt que de faire une section à part. Peut être inclure ici le set up d'un environnement firebase, genre\n",
    "\n",
    "!pip install firebase-admin\n",
    "\n",
    "import firebase_admin\n"
   ]
  },
  {
   "cell_type": "code",
   "execution_count": 6,
   "metadata": {},
   "outputs": [
    {
     "name": "stdout",
     "output_type": "stream",
     "text": [
      "Set up firebase project\n"
     ]
    }
   ],
   "source": [
    "print(\"Set up firebase project \")"
   ]
  },
  {
   "attachments": {},
   "cell_type": "markdown",
   "metadata": {},
   "source": [
    "## Firebase features\n",
    "\n",
    "blablabla bla blabla \n",
    "\n",
    "inclure du code pour démontrer les examples"
   ]
  },
  {
   "attachments": {},
   "cell_type": "markdown",
   "metadata": {},
   "source": [
    "+ **Feature 1**: this feature allows to blablabla..."
   ]
  },
  {
   "cell_type": "code",
   "execution_count": 4,
   "metadata": {},
   "outputs": [
    {
     "name": "stdout",
     "output_type": "stream",
     "text": [
      "Montrer un example de la feature en code\n"
     ]
    }
   ],
   "source": [
    "print(\"Montrer un example de la feature en code\")"
   ]
  },
  {
   "attachments": {},
   "cell_type": "markdown",
   "metadata": {},
   "source": [
    "+ **Feature 2**: this feature allows to blablabla..."
   ]
  },
  {
   "cell_type": "code",
   "execution_count": 5,
   "metadata": {},
   "outputs": [
    {
     "name": "stdout",
     "output_type": "stream",
     "text": [
      "Montrer un example de la feature en code\n"
     ]
    }
   ],
   "source": [
    "print(\"Montrer un example de la feature en code\")"
   ]
  },
  {
   "attachments": {},
   "cell_type": "markdown",
   "metadata": {},
   "source": [
    "## Benefits and Drawbacks of Firebase\n",
    "\n",
    "The pros and cons listed here are limited to the ones concerning the technology itself, anything concerning pricing or availability for example has been discarded.\n",
    "\n",
    "### Benefits (mainly from [Firebase](https://firebase.google.com/docs/database)):\n",
    "\n",
    "+ Ability to synchronize data in **real-time** across multiple devices and clients without the need for manual synchronization or polling.\n",
    "\n",
    "+ Firebase Realtime Database can **scale** automatically to handle large amounts of data and high traffic.\n",
    "\n",
    "+ The database is optimized for **offline use**. Whenever a user performs changes offline, the database SDK uses a local cache on the device to serve and store changes. Whenever the user comes back online, the local data is automatically synchronized.\n",
    "\n",
    "+ The database offers a range of **security features**, including data encryption and authentication, to protect your data. You can specify who has access to which piece(s) of data and how the database should be structured.\n",
    "\n",
    "+ Google Analytics for Firebase allows you to **track the users’ journey** through realtime and custom reporting. (from [InfoTrust](https://infotrust.com/articles/5-benefits-of-using-google-firebase/))\n",
    "\n",
    "+ Integrated **Machine Learning Functions** (from [back4app](https://blog.back4app.com/firebase-advantages-and-disadvantages/))\n",
    "\n",
    "+ ...\n",
    "\n",
    "### Drawbacks:\n",
    "\n",
    "[back4app](https://blog.back4app.com/firebase-advantages-and-disadvantages/) presents several disadvantages of using Firebase to build mobile or web apps.\n",
    "\n",
    "+ Because of Firebase's **closed-source architecture**, app developers have very little control over the platform. Even if what Firebase provides does not meet the user's app development requirements, he cannot modify Firebase's code.\n",
    "\n",
    "+ It does **not support SQL Database**. The two databases available on Firebase are NoSQL databases. In essence, Firebase cannot support relational database structures and running complex database queries is still challenging on the platform.\n",
    "\n",
    "+ In contrast to SQL databases, Firebase database migration is **slow and complicated**.\n",
    "\n",
    "+ While Firestore has excellent features, it still has some **limiting quotas** such as: document size limited to 1MB, maximum of one million concurrent connections, maximum of 10MB API request size, not very flexible query pattern, ..."
   ]
  },
  {
   "attachments": {},
   "cell_type": "markdown",
   "metadata": {},
   "source": [
    "## Use of Firebase in industry and applications\n",
    "\n",
    "blablabla bla blabla"
   ]
  },
  {
   "attachments": {},
   "cell_type": "markdown",
   "metadata": {},
   "source": [
    "## Conclusion\n",
    "\n",
    "blablabla bla blabla"
   ]
  }
 ],
 "metadata": {
  "kernelspec": {
   "display_name": "Python 3",
   "language": "python",
   "name": "python3"
  },
  "language_info": {
   "codemirror_mode": {
    "name": "ipython",
    "version": 3
   },
   "file_extension": ".py",
   "mimetype": "text/x-python",
   "name": "python",
   "nbconvert_exporter": "python",
   "pygments_lexer": "ipython3",
   "version": "3.10.11"
  },
  "orig_nbformat": 4
 },
 "nbformat": 4,
 "nbformat_minor": 2
}
