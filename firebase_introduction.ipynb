{
 "cells": [
  {
   "attachments": {},
   "cell_type": "markdown",
   "metadata": {},
   "source": [
    "# <u>A Beginner's Guide to Firebase Realtime Database<u>"
   ]
  },
  {
   "attachments": {},
   "cell_type": "markdown",
   "metadata": {},
   "source": [
    "## Introduction\n",
    "\n",
    "Firebase Realtime Database is a cloud hosted NoSQL database developped by Google in which the Data is stored in JSON format and synchronized in real time with each connected client. When building cross-platform apps using IOS, Android, and JavaScript software development kits (SDKs), all of the clients share a real-time database instance and automatically receive immediate data updates.\n"
   ]
  },
  {
   "attachments": {},
   "cell_type": "markdown",
   "metadata": {},
   "source": [
    "## Setting up a Firebase project\n",
    "\n",
    "First install firebase using npm"
   ]
  },
  {
   "cell_type": "code",
   "execution_count": 3,
   "metadata": {},
   "outputs": [
    {
     "name": "stdout",
     "output_type": "stream",
     "text": [
      "\u001b[K\u001b[?25hm##################\u001b[0m⸩ ⠴ reify:firebase: \u001b[32;40mhttp\u001b[0m \u001b[35mfetch\u001b[0m GET 200 https://registry.npmj\u001b[0m\u001b[K//regi\u001b[0m\u001b[K\n",
      "added 86 packages, removed 76 packages, and audited 91 packages in 9s\n",
      "\n",
      "3 packages are looking for funding\n",
      "  run `npm fund` for details\n",
      "\n",
      "found \u001b[32m\u001b[1m0\u001b[22m\u001b[39m vulnerabilities\n"
     ]
    }
   ],
   "source": [
    "!npm install firebase"
   ]
  },
  {
   "cell_type": "markdown",
   "metadata": {},
   "source": [
    "### Setting up firebase application\n",
    "\n",
    "As firebase runs on the Google Cloud platform, we must first set up an application.\n",
    "To do so, a google account is needed.\n",
    "\n",
    "First go to this website in any browser:\n",
    "https://console.firebase.google.com/?pli=1\n",
    "\n",
    "and click on \"create a project\"\n",
    "\n",
    "<img src=\"images/Firebase_Logged_in.png\" width=\"800\" height=\"400\">\n",
    "\n",
    "Then give a name to your project and proceed, disabling google analytics when asked.\n",
    "\n",
    "Once your project is created, you will need to click on the symbol at the end of the arrow.\n",
    "\n",
    "<img src=\"images/Add_application.png\" width=\"800\" height=\"400\">\n",
    "\n",
    "Then give a name to your application, register it without checking \"Also set up Firebase hosting for this app\".\n",
    "\n",
    "You should get to this screen:\n",
    "\n",
    "<img src=\"images/app_registered.png\"  height=\"500\">\n",
    "\n",
    "You now have one app that is set and to which you can connect.\n",
    "\n"
   ]
  },
  {
   "cell_type": "code",
   "execution_count": 4,
   "metadata": {
    "vscode": {
     "languageId": "javascript"
    }
   },
   "outputs": [
    {
     "ename": "SyntaxError",
     "evalue": "unterminated string literal (detected at line 3) (2039558411.py, line 3)",
     "output_type": "error",
     "traceback": [
      "\u001b[0;36m  Cell \u001b[0;32mIn[4], line 3\u001b[0;36m\u001b[0m\n\u001b[0;31m    // TODO: Replace the following with your app's Firebase project configuration\u001b[0m\n\u001b[0m                                                ^\u001b[0m\n\u001b[0;31mSyntaxError\u001b[0m\u001b[0;31m:\u001b[0m unterminated string literal (detected at line 3)\n"
     ]
    }
   ],
   "source": [
    "import { initializeApp } from 'firebase/app';\n",
    "\n",
    "// TODO: Replace the following with your app's Firebase project configuration\n",
    "const firebaseConfig = {\n",
    "  //...\n",
    "};\n",
    "\n",
    "const app = initializeApp(firebaseConfig);\n"
   ]
  },
  {
   "attachments": {},
   "cell_type": "markdown",
   "metadata": {},
   "source": [
    "## Firebase features\n",
    "\n",
    "blablabla bla blabla \n",
    "\n",
    "inclure du code pour démontrer les examples"
   ]
  },
  {
   "attachments": {},
   "cell_type": "markdown",
   "metadata": {},
   "source": [
    "+ **Feature 1**: this feature allows to blablabla..."
   ]
  },
  {
   "cell_type": "code",
   "execution_count": 4,
   "metadata": {},
   "outputs": [
    {
     "name": "stdout",
     "output_type": "stream",
     "text": [
      "Montrer un example de la feature en code\n"
     ]
    }
   ],
   "source": [
    "print(\"Montrer un example de la feature en code\")"
   ]
  },
  {
   "attachments": {},
   "cell_type": "markdown",
   "metadata": {},
   "source": [
    "+ **Feature 2**: this feature allows to blablabla..."
   ]
  },
  {
   "cell_type": "code",
   "execution_count": 5,
   "metadata": {},
   "outputs": [
    {
     "name": "stdout",
     "output_type": "stream",
     "text": [
      "Montrer un example de la feature en code\n"
     ]
    }
   ],
   "source": [
    "print(\"Montrer un example de la feature en code\")"
   ]
  },
  {
   "attachments": {},
   "cell_type": "markdown",
   "metadata": {},
   "source": [
    "## Benefits and Drawbacks of Firebase\n",
    "\n",
    "The pros and cons listed here are limited to the ones concerning the technology itself, anything concerning pricing or availability for example has been discarded.\n",
    "\n",
    "### Benefits (mainly from Firebase website [1]):\n",
    "\n",
    "+ Ability to synchronize data in **real-time** across multiple devices and clients without the need for manual synchronization or polling.\n",
    "\n",
    "+ Firebase Realtime Database can **scale** automatically to handle large amounts of data and high traffic.\n",
    "\n",
    "+ The database is optimized for **offline use**. Whenever a user performs changes offline, the database SDK uses a local cache on the device to serve and store changes. Whenever the user comes back online, the local data is automatically synchronized.\n",
    "\n",
    "+ The database offers a range of **security features**, including data encryption and authentication, to protect your data. You can specify who has access to which piece(s) of data and how the database should be structured.\n",
    "\n",
    "+ Google Analytics for Firebase allows you to **track the users’ journey** through realtime and custom reporting [2].\n",
    "\n",
    "+ Integrated **Machine Learning Functions** [3].\n",
    "\n",
    "+ ...\n",
    "\n",
    "### Drawbacks:\n",
    "\n",
    "back4app [3] presents several disadvantages of using Firebase to build mobile or web apps.\n",
    "\n",
    "+ Because of Firebase's **closed-source architecture**, app developers have very little control over the platform. Even if what Firebase provides does not meet the user's app development requirements, he cannot modify Firebase's code.\n",
    "\n",
    "+ It does **not support SQL Database**. The two databases available on Firebase are NoSQL databases. In essence, Firebase cannot support relational database structures and running complex database queries is still challenging on the platform.\n",
    "\n",
    "+ In contrast to SQL databases, Firebase database migration is **slow and complicated**.\n",
    "\n",
    "+ While Firestore has excellent features, it still has some **limiting quotas** such as: document size limited to 1MB, maximum of one million concurrent connections, maximum of 10MB API request size, not very flexible query pattern, ..."
   ]
  },
  {
   "attachments": {},
   "cell_type": "markdown",
   "metadata": {},
   "source": [
    "## Use of Firebase in industry\n",
    "\n",
    "According to CAREERKARMA [4], Google Firebase is a prominent platform used by professional developers and businesses to create high-quality applications. There is a wide variety of industries that employ Firebase for to fullfil their purpose, among which:\n",
    "\n",
    "### 1. Entertainment\n",
    "\n",
    "One can cite **Twitch.tv**, **9gag** and **Halfbrick** as examples of enternainment focused companies using Firebase. The first is a live-streaming platform which uses Firebase services in addition to its existing infrastructure to give real-time data to its clients. The second is the Internet's largest meme community and hosts its services on the Firebase enterprise platform. Finally, the third is the company behinf the creators of the top-selling mobile games Fruit Ninja and Jetpack Joyride. They use the Firebase framework in their tech stack to offer an interactive user experience on their applications.\n",
    "\n",
    "### 2. E-Commerce and Online trading\n",
    "\n",
    "For anyone aiming to build an E-Commerce app, Firebase is a great backend alternative to existing shop systems. Actually, one of the biggest companies using Firebase is **Alibaba** Group Holding Limited which is the world’s largest and most popular online commerce company.\n",
    "\n",
    "As online trading has become very popular, there is a great need for a platform where anyone can go and trade. One of these platfroms is **eToro** [5] which provides the functionality of a multiple-asset brokerage.\n",
    "\n",
    "### 3. Information\n",
    "\n",
    "The most notable is probably the **New York Times**, the American media organization that distributes and collects news via newspapers, digital products, and mobile applications. Furhtermore, one of the world’s biggest news and business publications, **The Economist**, uses Firebase services for its backend infrastructure. One could also cite **NPR** which brings news about politics, business, health, music, science, ...\n",
    "\n",
    "Considering sports, there is a major company providing real-time information with statistics and online football game scores from 12 different leagues happening around the world. This company is **Onefootball** [5].\n",
    "\n",
    "### 4. Transportation and Travelling\n",
    "\n",
    "Offering an alternative to conventional taxi services, **Lyft** employs the cloud functions for Firebase to host its services. There is also **Trivago**, a search-based platform used to find hotels and travel packages. It employs advanced filtering, indexing techniques, and backend Firebase analytics services."
   ]
  },
  {
   "attachments": {},
   "cell_type": "markdown",
   "metadata": {},
   "source": [
    "## Conclusion\n",
    "\n",
    "blablabla bla blabla"
   ]
  },
  {
   "attachments": {},
   "cell_type": "markdown",
   "metadata": {},
   "source": [
    "# Sources\n",
    "\n",
    "[1] Firebase realtime database (last updated 11/04/2023). Available: [https://firebase.google.com/docs/database](https://firebase.google.com/docs/database)\n",
    "\n",
    "[2] InfoTrust (April 26, 2022). Available: [https://infotrust.com/articles/5-benefits-of-using-google-firebase/](https://infotrust.com/articles/5-benefits-of-using-google-firebase/)\n",
    "\n",
    "[3] back4app, \"Firebase Advantages and Disadvantages\", (n.d.). Available: [https://blog.back4app.com/firebase-advantages-and-disadvantages/](https://blog.back4app.com/firebase-advantages-and-disadvantages/)\n",
    "\n",
    "[4] CAREERKARMA, \"Companies that use Firebase\", (february 10, 2022). Available: [https://careerkarma.com/blog/companies-that-use-firebase/](https://careerkarma.com/blog/companies-that-use-firebase/)\n",
    "\n",
    "[5] back4app, \"Companies using Firebase\", (n.d.). Available: [https://blog.back4app.com/companies-using-firebase/](https://blog.back4app.com/companies-using-firebase/)"
   ]
  }
 ],
 "metadata": {
  "kernelspec": {
   "display_name": "Python 3.10.6 64-bit",
   "language": "python",
   "name": "python3"
  },
  "language_info": {
   "codemirror_mode": {
    "name": "ipython",
    "version": 3
   },
   "file_extension": ".py",
   "mimetype": "text/x-python",
   "name": "python",
   "nbconvert_exporter": "python",
   "pygments_lexer": "ipython3",
   "version": "3.10.6"
  },
  "orig_nbformat": 4,
  "vscode": {
   "interpreter": {
    "hash": "916dbcbb3f70747c44a77c7bcd40155683ae19c65e1c03b4aa3499c5328201f1"
   }
  }
 },
 "nbformat": 4,
 "nbformat_minor": 2
}
